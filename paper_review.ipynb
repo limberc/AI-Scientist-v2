{
 "cells": [
  {
   "cell_type": "markdown",
   "metadata": {},
   "source": [
    "# Paper Review Notebook\n",
    "This notebook reads a paper file and sends it to an AI service (OpenAI or Gemini) to generate a review.\n",
    "Provide the filename of your paper, the API key, and the service base URL, then run the `review_paper` function."
   ]
  },
  {
   "cell_type": "code",
   "metadata": {},
   "execution_count": null,
   "source": [
    "# Install required libraries if needed\n",
    "# !pip install openai google-generativeai pdfminer.six"
   ],
   "outputs": []
  },
  {
   "cell_type": "code",
   "metadata": {},
   "execution_count": null,
   "source": [
    "import os\n",
    "from typing import Literal\n",
    "from pdfminer.high_level import extract_text as pdf_extract_text\n",
    "\n",
    "try:\n",
    "    import openai\n",
    "except ImportError:\n",
    "    openai = None\n",
    "\n",
    "try:\n",
    "    import google.generativeai as genai\n",
    "except ImportError:\n",
    "    genai = None"
   ],
   "outputs": []
  },
  {
   "cell_type": "code",
   "metadata": {},
   "execution_count": null,
   "source": [
    "def load_text(filename: str) -> str:\n",
    "    if filename.lower().endswith('.pdf'):\n",
    "        return pdf_extract_text(filename)\n",
    "    with open(filename, 'r', encoding='utf-8') as f:\n",
    "        return f.read()\n",
    "\n",
    "\n",
    "def review_paper(filename: str, api_key: str, base_url: str | None = None, service: Literal['openai', 'gemini'] = 'openai', model: str | None = None) -> str:\n",
    "    text = load_text(filename)\n",
    "    if service == 'openai':\n",
    "        if openai is None:\n",
    "            raise ImportError('openai package is not installed')\n",
    "        openai.api_key = api_key\n",
    "        if base_url is not None:\n",
    "            openai.api_base = base_url\n",
    "        if model is None:\n",
    "            model = 'gpt-4o'\n",
    "        messages = [\n",
    "            {\"role\": \"system\", \"content\": \"You are an expert academic reviewer. Provide a concise review summarizing the paper, listing strengths, weaknesses, and suggestions.\"},\n",
    "            {\"role\": \"user\", \"content\": text}\n",
    "        ]\n",
    "        response = openai.ChatCompletion.create(model=model, messages=messages)\n",
    "        return response.choices[0].message.content.strip()\n",
    "    elif service == 'gemini':\n",
    "        if genai is None:\n",
    "            raise ImportError('google-generativeai package is not installed')\n",
    "        if base_url is None:\n",
    "            genai.configure(api_key=api_key)\n",
    "        else:\n",
    "            genai.configure(api_key=api_key, api_endpoint=base_url)\n",
    "        if model is None:\n",
    "            model = 'gemini-pro'\n",
    "        model_obj = genai.GenerativeModel(model)\n",
    "        resp = model_obj.generate_content(f'Please provide a peer review for the following paper:\n{text}')\n",
    "        return resp.text.strip()\n",
    "    else:\n",
    "        raise ValueError('Unsupported service: ' + service)"
   ],
   "outputs": []
  },
  {
   "cell_type": "code",
   "metadata": {},
   "execution_count": null,
   "source": [
    "# Example usage\n",
    "filename = 'path/to/paper.pdf'   # Update with your file\n",
    "api_key = 'sk-...'               # Your API key\n",
    "base_url = 'https://api.openai.com/v1'  # Example base URL\n",
    "\n",
    "# Choose service='openai' or 'gemini'\n",
    "review = review_paper(filename, api_key, base_url=base_url, service='openai')\n",
    "print(review)"
   ],
   "outputs": []
  }
 ],
 "metadata": {
  "kernelspec": {
   "display_name": "Python 3",
   "language": "python",
   "name": "python3"
  },
  "language_info": {
   "name": "python"
  }
 },
 "nbformat": 4,
 "nbformat_minor": 2
}
